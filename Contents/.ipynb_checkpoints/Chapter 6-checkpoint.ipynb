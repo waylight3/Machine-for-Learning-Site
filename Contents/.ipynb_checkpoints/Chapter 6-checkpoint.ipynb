{
 "cells": [
  {
   "cell_type": "markdown",
   "metadata": {},
   "source": [
    "# 중고등학생을 위한 머신러닝"
   ]
  },
  {
   "cell_type": "markdown",
   "metadata": {},
   "source": [
    "## Chapter 6: Dictionary와 그래프\n",
    "우리는 이제 프로그래밍까지 공부하면서 훈련을 통해 자신이 생각하는 것을 컴퓨터로 구현해낼 수 있어요.\n",
    "집합 그리고 List를 이용하여 그룹들을 나눠서 데이터가 무엇이 있는 지, 데이터가 얼마나 있는 지도 확인할 수 있죠.\n",
    "그래서 오늘은 이러한 데이터들을 종합하여 저장한 후 그래프를 그리는 연습을 해보려고 해요."
   ]
  },
  {
   "cell_type": "code",
   "execution_count": 1,
   "metadata": {
    "collapsed": true
   },
   "outputs": [],
   "source": [
    "import random\n",
    "data=[]\n",
    "for i in range(10000):\n",
    "    data.append(random.randint(1,100))"
   ]
  },
  {
   "cell_type": "code",
   "execution_count": 3,
   "metadata": {
    "collapsed": true
   },
   "outputs": [],
   "source": [
    "names=set(data)"
   ]
  },
  {
   "cell_type": "raw",
   "metadata": {},
   "source": [
    "우리는 리스트에 있는 데이터들을 집합으로 나타내어 무엇이 있는 지를 Set에 저장하였어요.\n",
    "그러면 이게 몇 개씩 있는 지 어떻게 알 수 있을까요?\n",
    "먼저 집합을 참조하여 데이터를 불러와볼까요?"
   ]
  },
  {
   "cell_type": "code",
   "execution_count": 6,
   "metadata": {
    "collapsed": false
   },
   "outputs": [
    {
     "ename": "TypeError",
     "evalue": "'set' object does not support indexing",
     "output_type": "error",
     "traceback": [
      "\u001b[0;31m---------------------------------------------------------------------------\u001b[0m",
      "\u001b[0;31mTypeError\u001b[0m                                 Traceback (most recent call last)",
      "\u001b[0;32m<ipython-input-6-9963261f3259>\u001b[0m in \u001b[0;36m<module>\u001b[0;34m()\u001b[0m\n\u001b[0;32m----> 1\u001b[0;31m \u001b[0mnames\u001b[0m\u001b[0;34m[\u001b[0m\u001b[0;36m0\u001b[0m\u001b[0;34m]\u001b[0m\u001b[0;34m\u001b[0m\u001b[0m\n\u001b[0m",
      "\u001b[0;31mTypeError\u001b[0m: 'set' object does not support indexing"
     ]
    }
   ],
   "source": [
    "names[0]"
   ]
  },
  {
   "cell_type": "raw",
   "metadata": {},
   "source": [
    "그러나, Set은 슬라이싱을 할 수 없기 때문에 슬라이싱을 하려면 이러한 집합을 슬라이싱이 가능한 List로 변환한 후 사용하는 게 일반적이요."
   ]
  },
  {
   "cell_type": "code",
   "execution_count": 7,
   "metadata": {
    "collapsed": true
   },
   "outputs": [],
   "source": [
    "names=list(names)"
   ]
  },
  {
   "cell_type": "code",
   "execution_count": 8,
   "metadata": {
    "collapsed": false
   },
   "outputs": [
    {
     "data": {
      "text/plain": [
       "1"
      ]
     },
     "execution_count": 8,
     "metadata": {},
     "output_type": "execute_result"
    }
   ],
   "source": [
    "names[0]"
   ]
  },
  {
   "cell_type": "raw",
   "metadata": {},
   "source": [
    "그러면 for문을 사용하여 각 데이터가 몇 개 있는 지 살펴볼까요?"
   ]
  },
  {
   "cell_type": "code",
   "execution_count": 13,
   "metadata": {
    "collapsed": false
   },
   "outputs": [
    {
     "name": "stdout",
     "output_type": "stream",
     "text": [
      "106\n",
      "84\n",
      "118\n",
      "108\n",
      "97\n",
      "89\n",
      "97\n",
      "97\n",
      "83\n",
      "115\n"
     ]
    }
   ],
   "source": [
    "for i in names:\n",
    "    if i <=10:\n",
    "        print data.count(i)\n",
    "    else: break"
   ]
  },
  {
   "cell_type": "markdown",
   "metadata": {},
   "source": [
    "(편의상 열개만 불러왔어요). 그런데 나중에 데이터를 분석하기 위한 그래프를 그려야 하는데 이런식으로는 누가누군지 알 수가 없죠."
   ]
  },
  {
   "cell_type": "markdown",
   "metadata": {},
   "source": [
    "## 그래서 필요한 것이 Dictonary(사전)이에요"
   ]
  },
  {
   "cell_type": "code",
   "execution_count": 14,
   "metadata": {
    "collapsed": true
   },
   "outputs": [],
   "source": [
    "counts={}\n",
    "for i in names:\n",
    "    counts[i]=data.count(i)"
   ]
  },
  {
   "cell_type": "code",
   "execution_count": 19,
   "metadata": {
    "collapsed": false
   },
   "outputs": [
    {
     "name": "stdout",
     "output_type": "stream",
     "text": [
      "106\n",
      "104\n"
     ]
    }
   ],
   "source": [
    "print counts[1]\n",
    "print counts[99]"
   ]
  },
  {
   "cell_type": "raw",
   "metadata": {},
   "source": [
    "딕셔너리는 이런식으로 집합의 원소를 참조하여 데이터를 불러내죠.\n",
    "그럼 딕셔너리의 자주 쓰는 함수들을 살펴볼까요?"
   ]
  },
  {
   "cell_type": "code",
   "execution_count": null,
   "metadata": {
    "collapsed": true
   },
   "outputs": [],
   "source": [
    "counts.keys()"
   ]
  },
  {
   "cell_type": "markdown",
   "metadata": {},
   "source": [
    "keys()는 집합 자체를 불러오는 기능이에요. 실행하면 우리가 아까 저장했었던 집합들이 나타나게 되죠.\n",
    "dictionary에서의 key는 데이터의 집합!"
   ]
  },
  {
   "cell_type": "code",
   "execution_count": null,
   "metadata": {
    "collapsed": true
   },
   "outputs": [],
   "source": [
    "counts.values()"
   ]
  },
  {
   "cell_type": "markdown",
   "metadata": {},
   "source": [
    "values()는 집합의 개수를 나타내는 List에요. 위 데이터의 경우 1에서 100까지 각각 몇개씩 있는 지 나타내는 거죠.\n",
    "dictionary에서의 value는 집합의 원소 개수!"
   ]
  },
  {
   "cell_type": "code",
   "execution_count": 24,
   "metadata": {
    "collapsed": false
   },
   "outputs": [
    {
     "data": {
      "text/plain": [
       "104"
      ]
     },
     "execution_count": 24,
     "metadata": {},
     "output_type": "execute_result"
    }
   ],
   "source": [
    "counts.get(99)"
   ]
  },
  {
   "cell_type": "raw",
   "metadata": {},
   "source": [
    "get()은 집합의 원소가 무엇인 지 나타내는 함수에요."
   ]
  },
  {
   "cell_type": "code",
   "execution_count": 25,
   "metadata": {
    "collapsed": false
   },
   "outputs": [
    {
     "data": {
      "text/plain": [
       "True"
      ]
     },
     "execution_count": 25,
     "metadata": {},
     "output_type": "execute_result"
    }
   ],
   "source": [
    "1 in counts"
   ]
  },
  {
   "cell_type": "code",
   "execution_count": 27,
   "metadata": {
    "collapsed": false
   },
   "outputs": [
    {
     "data": {
      "text/plain": [
       "False"
      ]
     },
     "execution_count": 27,
     "metadata": {},
     "output_type": "execute_result"
    }
   ],
   "source": [
    "101 in counts"
   ]
  },
  {
   "cell_type": "markdown",
   "metadata": {},
   "source": [
    "in을 통해서 딕셔너리에 값이 있는 지 없는 지도 나타낼 수 있죠.\n",
    "## 물론 딕셔너리의 key와 value에 문자형  리스트도 들어갈 수 있어요."
   ]
  },
  {
   "cell_type": "code",
   "execution_count": 28,
   "metadata": {
    "collapsed": true
   },
   "outputs": [],
   "source": [
    "class1={'Boys':25,'girls':20}"
   ]
  },
  {
   "cell_type": "code",
   "execution_count": 29,
   "metadata": {
    "collapsed": true
   },
   "outputs": [],
   "source": [
    "class1vector={'number1':[170,50],'number2':[155,40]}"
   ]
  },
  {
   "cell_type": "code",
   "execution_count": 31,
   "metadata": {
    "collapsed": false
   },
   "outputs": [
    {
     "data": {
      "text/plain": [
       "{'number1': [170, 50], 'number2': [155, 40]}"
      ]
     },
     "execution_count": 31,
     "metadata": {},
     "output_type": "execute_result"
    }
   ],
   "source": [
    "class1vector"
   ]
  },
  {
   "cell_type": "markdown",
   "metadata": {},
   "source": [
    "이런식으로 딕셔너리를 통해서 원하는 값들을 만들어낼 수도 있죠.\n",
    "그러니, 딕셔너리에는 우리의 관심있는 데이터들이 모여있는 집합물이라고 할 수 있죠.\n",
    "위의 class1에서는 남자가 여자가 몇명인지 궁금한 반면, class1vector에선 키와 몸무게를 저장했으니깐 말이죠."
   ]
  },
  {
   "cell_type": "code",
   "execution_count": 62,
   "metadata": {
    "collapsed": false
   },
   "outputs": [],
   "source": [
    "import matplotlib.pyplot as plt\n",
    "%matplotlib inline  "
   ]
  },
  {
   "cell_type": "code",
   "execution_count": 46,
   "metadata": {
    "collapsed": false
   },
   "outputs": [
    {
     "data": {
      "image/png": "[encoded data removed]",
      "text/plain": [
       "<matplotlib.figure.Figure at 0x7f9dcef35c90>"
      ]
     },
     "metadata": {},
     "output_type": "display_data"
    }
   ],
   "source": [
    "plt.bar(counts.keys(),counts.values())\n",
    "plt.show()"
   ]
  },
  {
   "cell_type": "markdown",
   "metadata": {},
   "source": [
    "## 이 그래프는 히스토그램이에요. 각 집합의 빈도수를 나타내서 사람들이 이해하기 쉽게 만드는거죠."
   ]
  },
  {
   "cell_type": "markdown",
   "metadata": {},
   "source": [
    "## ~에서 "
   ]
  },
  {
   "cell_type": "code",
   "execution_count": 81,
   "metadata": {
    "collapsed": false
   },
   "outputs": [],
   "source": [
    "import pandas as pd\n",
    "wine=pd.read_csv('https://ocw.mit.edu/courses/sloan-school-of-management/15-097-prediction-machine-learning-and-statistics-spring-2012/datasets/wine.csv',header=None)"
   ]
  },
  {
   "cell_type": "code",
   "execution_count": 85,
   "metadata": {
    "collapsed": false
   },
   "outputs": [],
   "source": [
    "Alcohol=list(wine.ix[:,0]);\n",
    "Acid=list(wine.ix[:,1]);\n",
    "proline=list(wine.ix[:,12])"
   ]
  },
  {
   "cell_type": "markdown",
   "metadata": {},
   "source": [
    "## ~까지는 그냥 실행만 하세요~ 데이터를 리스트화시키는 작업일뿐이에요."
   ]
  },
  {
   "cell_type": "code",
   "execution_count": 102,
   "metadata": {
    "collapsed": false
   },
   "outputs": [
    {
     "data": {
      "image/png": "[encoded data removed]",
      "text/plain": [
       "<matplotlib.figure.Figure at 0x7feabc465710>"
      ]
     },
     "metadata": {},
     "output_type": "display_data"
    }
   ],
   "source": [
    "plt.scatter(Acid,proline,c=Alcohol)\n",
    "plt.show()"
   ]
  },
  {
   "cell_type": "markdown",
   "metadata": {},
   "source": [
    "이 그림 와인에서 산성과 프롤린의 관계를 찾아내려고 그린 산점도에요. 그룹은 알콜이 어느정도 들어강있느냐에따라 나누었구요."
   ]
  },
  {
   "cell_type": "code",
   "execution_count": 103,
   "metadata": {
    "collapsed": false
   },
   "outputs": [],
   "source": [
    "items=set(Alcohol)\n",
    "items=list(sets)\n",
    "howmany={}\n",
    "for item in items:\n",
    "    howmany[item]=Alcohol.count(item)"
   ]
  },
  {
   "cell_type": "markdown",
   "metadata": {},
   "source": [
    "이렇게 되면 howmany라는 Alocohol이 얼만큼 있는 지 넣을 수 있겠죠?"
   ]
  },
  {
   "cell_type": "code",
   "execution_count": 101,
   "metadata": {
    "collapsed": false
   },
   "outputs": [
    {
     "data": {
      "text/plain": [
       "<Container object of 3 artists>"
      ]
     },
     "execution_count": 101,
     "metadata": {},
     "output_type": "execute_result"
    },
    {
     "data": {
      "image/png": "[encoded data removed]",
      "text/plain": [
       "<matplotlib.figure.Figure at 0x7feabd00a9d0>"
      ]
     },
     "metadata": {},
     "output_type": "display_data"
    }
   ],
   "source": [
    "plt.bar(howmany.keys(),howmany.values(),color=['red','green','blue'])"
   ]
  },
  {
   "cell_type": "markdown",
   "metadata": {},
   "source": [
    "## 데이터를 나타내는 기본 : Vector(벡터)"
   ]
  },
  {
   "cell_type": "markdown",
   "metadata": {},
   "source": [
    "벡터라는 말이 갑자기 생소하게 나오니깐 무슨말인지 모르겠지만, 코드와 그림을 보면서 쉽게 이해해봐요."
   ]
  },
  {
   "cell_type": "code",
   "execution_count": 116,
   "metadata": {
    "collapsed": false
   },
   "outputs": [
    {
     "data": {
      "text/html": [
       "<img src='http://cfile5.uf.tistory.com/image/03302733515503933FD919' width=300 height=300>"
      ],
      "text/plain": [
       "<IPython.core.display.HTML object>"
      ]
     },
     "metadata": {},
     "output_type": "display_data"
    }
   ],
   "source": [
    "%%html\n",
    "<img src='http://cfile5.uf.tistory.com/image/03302733515503933FD919' width=300 height=300>"
   ]
  },
  {
   "cell_type": "raw",
   "metadata": {},
   "source": [
    "학생들 한 명 한 명마다 키, 몸무게, 가족의 수, 애완동물의 수를 조사한다고 해볼게요."
   ]
  },
  {
   "cell_type": "code",
   "execution_count": 129,
   "metadata": {
    "collapsed": true
   },
   "outputs": [],
   "source": [
    "person1=[170,62,4,0];person2=[165,66,6,2];person3=[160,50,10,15]"
   ]
  },
  {
   "cell_type": "markdown",
   "metadata": {},
   "source": [
    "**위의 경우에는 값이 한 사람마다 우리에게 주는 정보가 4개씩 있다는 것을 알 수 있어요.\n",
    "그리고 이를 나타내는 게 Vector(벡터)에요. 결국, 조사한 게 얼마냐에 따라서 벡터의 ,수가 정해지는거죠.\n",
    "그리고 벡터의 값의 개수를 차원이라고 부르죠**"
   ]
  },
  {
   "cell_type": "code",
   "execution_count": 121,
   "metadata": {
    "collapsed": false
   },
   "outputs": [
    {
     "data": {
      "text/html": [
       "<img src=\"http://3.bp.blogspot.com/_mkkVHG-vLEw/TD_hrvDTtDI/AAAAAAAAAas/3lIMonAZP6Y/s320/quad19.png\" width=250 height=250>"
      ],
      "text/plain": [
       "<IPython.core.display.HTML object>"
      ]
     },
     "metadata": {},
     "output_type": "display_data"
    }
   ],
   "source": [
    "%%html\n",
    "<img src=\"http://3.bp.blogspot.com/_mkkVHG-vLEw/TD_hrvDTtDI/AAAAAAAAAas/3lIMonAZP6Y/s320/quad19.png\" width=250 height=250>"
   ]
  },
  {
   "cell_type": "markdown",
   "metadata": {},
   "source": [
    "**그럼 사람들을 여러 명 조사해서 세로로 쌓게 되면 어떻게 될까요?\n",
    "그리고 이러한 사각형(직사각형 혹은 정사각형)의 형태를 띈 데이터의 모임을 행렬이라고 부르죠\n",
    "키,몸무게,가족의 수, 애완동물의 수를 조사하는 사람들을 100명 조사했다면, (100*4)개의 값이 있는 행렬이 되겠죠?\n",
    "이를 100x4행렬이라고도 부르죠.**"
   ]
  },
  {
   "cell_type": "code",
   "execution_count": 125,
   "metadata": {
    "collapsed": false,
    "scrolled": true
   },
   "outputs": [
    {
     "data": {
      "text/plain": [
       "[(170, 62, 4, 0), (165, 66, 6, 2), (160, 50, 10, 15)]"
      ]
     },
     "execution_count": 125,
     "metadata": {},
     "output_type": "execute_result"
    }
   ],
   "source": [
    "[person1,person2,person3]"
   ]
  },
  {
   "cell_type": "markdown",
   "metadata": {},
   "source": [
    "만약 세명만 조사했다면 3x4행렬이라고 부르고요."
   ]
  },
  {
   "cell_type": "markdown",
   "metadata": {},
   "source": [
    "![basic](http://image.slidesharecdn.com/random-151111113428-lva1-app6892/95/2015-6-12-638.jpg?cb=1447242642)"
   ]
  },
  {
   "cell_type": "markdown",
   "metadata": {},
   "source": [
    "### 이제 머신러닝을 공부하기 위한 기본이 되었어요. \n",
    "### 파이썬을 통해서 웹스크래핑, 페이지 제작 등 많은 것을 할 수 있어요.\n",
    "### 머신러닝 공부에 들어가기 앞서 모르는 게 있으면 단단히 더 공부하고 시작하세요!\n",
    "### 그럼 이제 머신러닝이 뭔지 파헤쳐볼까요?"
   ]
  },
  {
   "cell_type": "code",
   "execution_count": null,
   "metadata": {
    "collapsed": true
   },
   "outputs": [],
   "source": []
  }
 ],
 "metadata": {
  "kernelspec": {
   "display_name": "Python 2",
   "language": "python",
   "name": "python2"
  },
  "language_info": {
   "codemirror_mode": {
    "name": "ipython",
    "version": 2
   },
   "file_extension": ".py",
   "mimetype": "text/x-python",
   "name": "python",
   "nbconvert_exporter": "python",
   "pygments_lexer": "ipython2",
   "version": "2.7.12"
  }
 },
 "nbformat": 4,
 "nbformat_minor": 1
}
